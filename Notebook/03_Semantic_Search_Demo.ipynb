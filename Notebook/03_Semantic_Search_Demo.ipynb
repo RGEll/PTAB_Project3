{
 "cells": [
  {
   "cell_type": "code",
   "execution_count": 1,
   "id": "603f812e-8f03-470b-a81b-03880427e19b",
   "metadata": {},
   "outputs": [],
   "source": [
    "# Bootstrap to import saved embeddings from notebook #2 and redefine helper function to run notebook #3 from scratch\n",
    "\n",
    "from pathlib import Path\n",
    "import numpy as np\n",
    "import json\n",
    "from sentence_transformers import SentenceTransformer, CrossEncoder\n",
    "from sklearn.metrics.pairwise import cosine_similarity\n",
    "\n",
    "# paths\n",
    "cwd = Path.cwd()\n",
    "PROJECT_ROOT = cwd.parent if cwd.name == \"Notebook\" else cwd\n",
    "INDEX_DIR = PROJECT_ROOT / \"index\"\n",
    "\n",
    "# load embeddings + metadata\n",
    "embeddings = np.load(INDEX_DIR / \"embeddings.npy\")\n",
    "with open(INDEX_DIR / \"meta.json\", \"r\", encoding=\"utf-8\") as f:\n",
    "    chunk_records = json.load(f)\n",
    "\n",
    "# load embedding model\n",
    "model = SentenceTransformer(\"sentence-transformers/all-MiniLM-L6-v2\")\n",
    "\n",
    "# re-use semantic_search helper function from Notebook #2\n",
    "def semantic_search(query, k=5, pool_size=50, use_rerank=True):\n",
    "    q_vec = model.encode([query], convert_to_numpy=True, normalize_embeddings=True)\n",
    "    sims = cosine_similarity(q_vec, embeddings)[0]\n",
    "    topN = np.argsort(-sims)[:max(k, pool_size)]\n",
    "\n",
    "    if not use_rerank:\n",
    "        return [\n",
    "            {\n",
    "                \"rank\": rank,\n",
    "                \"doc_id\": chunk_records[i][\"doc_id\"],\n",
    "                \"chunk_id\": chunk_records[i][\"chunk_id\"],\n",
    "                \"title\": chunk_records[i][\"title\"],\n",
    "                \"score\": float(sims[i]),\n",
    "                \"score_type\": \"cosine\",\n",
    "                \"text\": chunk_records[i][\"text\"],\n",
    "                \"global_idx\": int(i),\n",
    "            }\n",
    "            for rank, i in enumerate(topN[:k], start=1)\n",
    "        ]\n",
    "\n",
    "    # rerank with cross-encoder\n",
    "    ce = CrossEncoder(\"cross-encoder/ms-marco-MiniLM-L-6-v2\")\n",
    "    pairs = [[query, chunk_records[i][\"text\"]] for i in topN]\n",
    "    ce_scores = ce.predict(pairs)\n",
    "    ranked = sorted(zip(topN, ce_scores), key=lambda x: -x[1])[:k]\n",
    "\n",
    "    return [\n",
    "        {\n",
    "            \"rank\": rank,\n",
    "            \"doc_id\": chunk_records[i][\"doc_id\"],\n",
    "            \"chunk_id\": chunk_records[i][\"chunk_id\"],\n",
    "            \"title\": chunk_records[i][\"title\"],\n",
    "            \"score\": float(ce_score),\n",
    "            \"score_type\": \"ce\",\n",
    "            \"text\": chunk_records[i][\"text\"],\n",
    "            \"global_idx\": int(i),\n",
    "        }\n",
    "        for rank, (i, ce_score) in enumerate(ranked, start=1)\n",
    "    ]"
   ]
  },
  {
   "cell_type": "code",
   "execution_count": 2,
   "id": "8be446b9-7f06-491d-9fa8-985039f0e42e",
   "metadata": {},
   "outputs": [
    {
     "name": "stdout",
     "output_type": "stream",
     "text": [
      "🔎 Query: semiconductor patent claims\n"
     ]
    }
   ],
   "source": [
    "# Hardcode query \n",
    "\n",
    "query = \"semiconductor patent claims\"\n",
    "print(\"🔎 Query:\", query)"
   ]
  },
  {
   "cell_type": "code",
   "execution_count": 4,
   "id": "4be26148-1891-42cc-b548-97a3afd5bb07",
   "metadata": {},
   "outputs": [
    {
     "name": "stdout",
     "output_type": "stream",
     "text": [
      "1. [ce=3.142] doc=2024004106_2025-08-27_32f45f1a-66d2-4e87-82dc-67fa1196f3a5 chunk=0\n",
      "   Title : 2024004106 2025 08 27 32f45f1a 66d2 4e87 82dc 67fa1196f3a5\n",
      "   Snip  : U NITED STATES PATENT AND TRADEMARK O FFICE UNITED STATES DEPARTMENT OF COMMERCE United States Patent and Trademark Office Address: COMMISSIONER FOR PATENTS P.O. Box 1450 Alexandria, Virginia 22313-1450 www.uspto.gov APPLICATION NO. FILING DATE FIRST ...\n",
      "\n",
      "2. [ce=1.771] doc=2024004096_2025-08-27_ca8b7daf-07f0-4741-98b4-f504184e3399 chunk=0\n",
      "   Title : 2024004096 2025 08 27 ca8b7daf 07f0 4741 98b4 f504184e3399\n",
      "   Snip  : U NITED STATES PATENT AND TRADEMARK O FFICE UNITED STATES DEPARTMENT OF COMMERCE United States Patent and Trademark Office Address: COMMISSIONER FOR PATENTS P.O. Box 1450 Alexandria, Virginia 22313-1450 www.uspto.gov APPLICATION NO. FILING DATE FIRST ...\n",
      "\n",
      "3. [ce=-0.665] doc=2024002880_2025-08-26_6583dc03-0b34-46bd-a958-93345eb5e15c chunk=0\n",
      "   Title : 2024002880 2025 08 26 6583dc03 0b34 46bd a958 93345eb5e15c\n",
      "   Snip  : U NITED STATES PATENT AND TRADEMARK O FFICE UNITED STATES DEPARTMENT OF COMMERCE United States Patent and Trademark Office Address: COMMISSIONER FOR PATENTS P.O. Box 1450 Alexandria, Virginia 22313-1450 www.uspto.gov APPLICATION NO. FILING DATE FIRST ...\n",
      "\n",
      "4. [ce=-0.806] doc=2024004072_2025-08-25_b30245b5-2908-4020-9060-4cb28aad4ac5 chunk=0\n",
      "   Title : 2024004072 2025 08 25 b30245b5 2908 4020 9060 4cb28aad4ac5\n",
      "   Snip  : U NITED STATES PATENT AND TRADEMARK O FFICE UNITED STATES DEPARTMENT OF COMMERCE United States Patent and Trademark Office Address: COMMISSIONER FOR PATENTS P.O. Box 1450 Alexandria, Virginia 22313-1450 www.uspto.gov APPLICATION NO. FILING DATE FIRST ...\n",
      "\n",
      "5. [ce=-1.011] doc=2024003717_2025-08-26_60b52718-384b-44de-abeb-c7e7a9816963 chunk=0\n",
      "   Title : 2024003717 2025 08 26 60b52718 384b 44de abeb c7e7a9816963\n",
      "   Snip  : U NITED STATES PATENT AND TRADEMARK O FFICE UNITED STATES DEPARTMENT OF COMMERCE United States Patent and Trademark Office Address: COMMISSIONER FOR PATENTS P.O. Box 1450 Alexandria, Virginia 22313-1450 www.uspto.gov APPLICATION NO. FILING DATE FIRST ...\n",
      "\n",
      "6. [ce=-1.256] doc=2025000819_2025-08-25_7294b159-c4dc-4aa0-a8d9-b9e6eb178bc4 chunk=0\n",
      "   Title : 2025000819 2025 08 25 7294b159 c4dc 4aa0 a8d9 b9e6eb178bc4\n",
      "   Snip  : U NITED STATES PATENT AND TRADEMARK O FFICE UNITED STATES DEPARTMENT OF COMMERCE United States Patent and Trademark Office Address: COMMISSIONER FOR PATENTS P.O. Box 1450 Alexandria, Virginia 22313-1450 www.uspto.gov APPLICATION NO. FILING DATE FIRST ...\n",
      "\n",
      "7. [ce=-1.591] doc=2024001050_2025-08-26_96b1de0c-7637-4aeb-b290-ea76af8a4087 chunk=0\n",
      "   Title : 2024001050 2025 08 26 96b1de0c 7637 4aeb b290 ea76af8a4087\n",
      "   Snip  : U NITED STATES PATENT AND TRADEMARK O FFICE UNITED STATES DEPARTMENT OF COMMERCE United States Patent and Trademark Office Address: COMMISSIONER FOR PATENTS P.O. Box 1450 Alexandria, Virginia 22313-1450 www.uspto.gov APPLICATION NO. FILING DATE FIRST ...\n",
      "\n",
      "8. [ce=-1.691] doc=2024000857_2025-08-26_75d26863-bf26-41d9-92c5-17605cea3c51 chunk=0\n",
      "   Title : 2024000857 2025 08 26 75d26863 bf26 41d9 92c5 17605cea3c51\n",
      "   Snip  : U NITED STATES PATENT AND TRADEMARK O FFICE UNITED STATES DEPARTMENT OF COMMERCE United States Patent and Trademark Office Address: COMMISSIONER FOR PATENTS P.O. Box 1450 Alexandria, Virginia 22313-1450 www.uspto.gov APPLICATION NO. FILING DATE FIRST ...\n",
      "\n",
      "9. [ce=-1.750] doc=2025002136_2025-08-27_6fd932ae-6201-47a1-adba-a5931a43b24d chunk=7\n",
      "   Title : 2025002136 2025 08 27 6fd932ae 6201 47a1 adba a5931a43b24d\n",
      "   Snip  : the [Examiner’s] ultimate conclusion on patent eligibility de novo.” Interval Licensing LLC v. AOL, Inc., 896 F.3d 1335, 1342 (Fed. Cir. 2018) (citing Berkheimer v. HP Inc., 881 F.3d 1360, 1365 (Fed. Cir. 2018)); see also SiRF Tech., Inc. v. Int’l Tr ...\n",
      "\n"
     ]
    }
   ],
   "source": [
    "# Run semantic search and display pretty print results\n",
    "hits = semantic_search(query, k=9, pool_size=50, use_rerank=True)\n",
    "\n",
    "for h in hits:\n",
    "    print(f\"{h['rank']}. [{h['score_type']}={h['score']:.3f}] doc={h['doc_id']} chunk={h['chunk_id']}\")\n",
    "    print(\"   Title :\", h['title'][:120])\n",
    "    print(\"   Snip  :\", h['text'][:250].replace('\\n',' '), \"...\\n\")"
   ]
  },
  {
   "cell_type": "code",
   "execution_count": 7,
   "id": "58319d66-8d0b-40c6-8738-b107debb6f76",
   "metadata": {},
   "outputs": [],
   "source": [
    "# Helper function to show a hit with surrounding context\n",
    "\n",
    "def debug_show_reranked_hit(reranked_list, which: int = 0, window: int = 1):\n",
    "    \"\"\"\n",
    "    Inspect a reranked result at position `which` and print its context.\n",
    "    reranked_list should be a list of (global_idx, score) pairs.\n",
    "    \"\"\"\n",
    "    if not reranked_list:\n",
    "        print(\"⚠️ Empty results list.\")\n",
    "        return\n",
    "    if which < 0 or which >= len(reranked_list):\n",
    "        print(f\"⚠️ which={which} out of range 0..{len(reranked_list)-1}\")\n",
    "        return\n",
    "\n",
    "    global_idx = int(reranked_list[which][0])\n",
    "    score = float(reranked_list[which][1])\n",
    "\n",
    "    if global_idx < 0 or global_idx >= len(chunk_records):\n",
    "        print(f\"⚠️ global_idx {global_idx} out of range (0..{len(chunk_records)-1})\")\n",
    "        return\n",
    "\n",
    "    rec = chunk_records[global_idx]\n",
    "    doc_id = rec.get(\"doc_id\", \"<?>\")\n",
    "    chunk_id = rec.get(\"chunk_id\", -1)\n",
    "    title = rec.get(\"title\", \"\")\n",
    "    text = rec.get(\"text\", \"\")\n",
    "\n",
    "    print(f\"\\n📄 Document: {doc_id}\")\n",
    "    print(f\"🧾 Title   : {title}\")\n",
    "    print(f\"🎯 Chunk ID: {chunk_id}\")\n",
    "    print(f\"⭐ Score    : {score:.3f}\")\n",
    "    print(\"-\" * 80)\n",
    "\n",
    "    # find all chunks for this doc\n",
    "    doc_chunks = [(i, r) for i, r in enumerate(chunk_records) if r[\"doc_id\"] == doc_id]\n",
    "    doc_chunks.sort(key=lambda x: x[1][\"chunk_id\"])\n",
    "\n",
    "    # locate this chunk’s position\n",
    "    pos = next((p for p, (gi, _) in enumerate(doc_chunks) if gi == global_idx), None)\n",
    "    if pos is None:\n",
    "        print(\"⚠️ Could not locate this chunk within the doc.\")\n",
    "        return\n",
    "\n",
    "    start = max(0, pos - window)\n",
    "    end = min(len(doc_chunks), pos + window + 1)\n",
    "\n",
    "    for j in range(start, end):\n",
    "        gi, r = doc_chunks[j]\n",
    "        marker = \"👉\" if gi == global_idx else \"  \"\n",
    "        print(f\"{marker} [chunk {r['chunk_id']}]\")\n",
    "        print(r['text'][:1000])  # print first 1000 chars\n",
    "        print(\"-\" * 80)"
   ]
  },
  {
   "cell_type": "code",
   "execution_count": 8,
   "id": "c58ea4b6-8bb0-4681-a333-74b09281db8c",
   "metadata": {},
   "outputs": [
    {
     "name": "stdout",
     "output_type": "stream",
     "text": [
      "\n",
      "📄 Document: 2024004106_2025-08-27_32f45f1a-66d2-4e87-82dc-67fa1196f3a5\n",
      "🧾 Title   : 2024004106 2025 08 27 32f45f1a 66d2 4e87 82dc 67fa1196f3a5\n",
      "🎯 Chunk ID: 0\n",
      "⭐ Score    : 3.142\n",
      "--------------------------------------------------------------------------------\n",
      "👉 [chunk 0]\n",
      "U NITED STATES PATENT AND TRADEMARK O FFICE UNITED STATES DEPARTMENT OF COMMERCE United States Patent and Trademark Office Address: COMMISSIONER FOR PATENTS P.O. Box 1450 Alexandria, Virginia 22313-1450 www.uspto.gov APPLICATION NO. FILING DATE FIRST NAMED INVENTOR ATTORNEY DOCKET NO. CONFIRMATION NO. 16/743,462 01/15/2020 Masashi SAKAI 005700-ME0612 1074 78198 7590 08/28/2025 Studebaker Brackett PLLC 8255 Greensboro Drive Suite 300 Tysons, VA 22102 EXAMINER KIM, JAY C ART UNIT PAPER NUMBER 2815 NOTIFICATION DATE DELIVERY MODE 08/28/2025 ELECTRONIC Please find below and/or attached an Office communication concerning this application or proceeding. The time period for reply, if any, is set in the attached communication. Notice of the Office communication was sent electronically on above-indicated \"Notification Date\" to the following e-mail address(es): info@sbpatentlaw.com PTOL-90A (Rev. 04/07) UNITED STATES PATENT AND TRADEMARK OFFICE —————— BEFORE THE PATENT TRIAL AND APPEAL BOARD ———\n",
      "--------------------------------------------------------------------------------\n",
      "   [chunk 1]\n",
      ". 1:6–7. The claimed silicon carbide epitaxial wafer includes a silicon carbide substrate and silicon carbide epitaxial layers formed on the silicon carbide substrate. Each of the silicon carbide epitaxial layers has a triangular defect. The silicon carbide epitaxial layer each have a step inside the triangular defect in the surface morphology of the triangular defect. Abstract. Claim 1, reproduced below, illustrates the claimed subject matter: 1. A silicon carbide epitaxial wafer comprising: a silicon carbide substrate; and a silicon carbide epitaxial layer formed on the silicon carbide substrate, wherein the silicon carbide epitaxial layer has a triangular defect and a step inside the triangular defect in a surface morphology of the triangular defect, a first surface of the triangular defect upstream of the step in a step flow direction is lower than a second surface of the triangular defect downstream of the step in the step flow direction, the first surface being lower than the sec\n",
      "--------------------------------------------------------------------------------\n"
     ]
    }
   ],
   "source": [
    "# Show full context for the top hit\n",
    "\n",
    "debug_show_reranked_hit([(h['global_idx'], h['score']) for h in hits], which=0, window=1)"
   ]
  },
  {
   "cell_type": "code",
   "execution_count": 9,
   "id": "7e6c8bfa-464c-4967-a376-2dadc861c915",
   "metadata": {},
   "outputs": [
    {
     "name": "stdout",
     "output_type": "stream",
     "text": [
      "🔎 Here's what one search result (a dictionary) looks like:\n",
      "\n",
      "      rank : 1\n",
      "    doc_id : 2024004106_2025-08-27_32f45f1a-66d2-4e87-82dc-67fa1196f3a5\n",
      "  chunk_id : 0\n",
      "     title : 2024004106 2025 08 27 32f45f1a 66d2 4e87 82dc 67fa1196f3a5\n",
      "     score : 3.142171859741211\n",
      "score_type : ce\n",
      "      text : U NITED STATES PATENT AND TRADEMARK O FFICE UNITED STATES DEPARTMENT OF COMMERCE United States Patent and Trademark Office Address: COMMISSIONER FOR PATENTS P.O. Box 1450 Alexandria, Virginia 22313-14...\n",
      "global_idx : 123\n"
     ]
    }
   ],
   "source": [
    "# Fun peek at the first search result dictionary\n",
    "\n",
    "if hits:  # make sure the list is not empty\n",
    "    h = hits[0]   # first result\n",
    "    print(\"🔎 Here's what one search result (a dictionary) looks like:\\n\")\n",
    "    for key, value in h.items():\n",
    "        # shorten long text fields for readability\n",
    "        if isinstance(value, str) and len(value) > 200:\n",
    "            display_val = value[:200] + \"...\"\n",
    "        else:\n",
    "            display_val = value\n",
    "        print(f\"{key:>10} : {display_val}\")\n",
    "else:\n",
    "    print(\"⚠️ No results found in 'hits'.\")"
   ]
  }
 ],
 "metadata": {
  "kernelspec": {
   "display_name": "PTAB Project 3",
   "language": "python",
   "name": "ptab3"
  },
  "language_info": {
   "codemirror_mode": {
    "name": "ipython",
    "version": 3
   },
   "file_extension": ".py",
   "mimetype": "text/x-python",
   "name": "python",
   "nbconvert_exporter": "python",
   "pygments_lexer": "ipython3",
   "version": "3.13.6"
  }
 },
 "nbformat": 4,
 "nbformat_minor": 5
}
